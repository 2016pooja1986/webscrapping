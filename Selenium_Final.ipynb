{
 "cells": [
  {
   "cell_type": "markdown",
   "id": "33e133ee",
   "metadata": {},
   "source": [
    "# Selenium\n",
    "- a framework to automate a web browser.\n",
    "- generally used for testing web applications."
   ]
  },
  {
   "cell_type": "markdown",
   "id": "3809e544",
   "metadata": {},
   "source": [
    "# Installing Selenium :\n",
    "&emsp;&emsp; `pip install selenium`"
   ]
  },
  {
   "cell_type": "markdown",
   "id": "fad3c8e8",
   "metadata": {},
   "source": [
    "# Web Drivers\n",
    " \n",
    "web Drivers in selenium connects the code(Python) with the real browsers.\n"
   ]
  },
  {
   "cell_type": "code",
   "execution_count": null,
   "id": "7bda0e77",
   "metadata": {},
   "outputs": [],
   "source": []
  },
  {
   "cell_type": "code",
   "execution_count": null,
   "id": "66e674ed",
   "metadata": {},
   "outputs": [],
   "source": [
    "!pip install Selenium"
   ]
  },
  {
   "cell_type": "code",
   "execution_count": 88,
   "id": "1affb4c6",
   "metadata": {},
   "outputs": [],
   "source": [
    "from selenium import webdriver\n",
    "from selenium.webdriver.common.by import By\n",
    "import time\n",
    "import pandas as pd\n",
    "import re"
   ]
  },
  {
   "cell_type": "code",
   "execution_count": null,
   "id": "addf5c54",
   "metadata": {},
   "outputs": [],
   "source": [
    "# creates a new browser\n",
    "driver = webdriver.Chrome()"
   ]
  },
  {
   "cell_type": "code",
   "execution_count": null,
   "id": "39f0e976",
   "metadata": {},
   "outputs": [],
   "source": [
    "#driver.get(\"https://www.google.com\")\n",
    "#driver.get(\"https://www.naukri.com\")\n",
    "driver.get(\"https://facebook.com\")"
   ]
  },
  {
   "cell_type": "code",
   "execution_count": null,
   "id": "b7203fce",
   "metadata": {},
   "outputs": [],
   "source": [
    "# to display the title of website\n",
    "driver.title"
   ]
  },
  {
   "cell_type": "code",
   "execution_count": null,
   "id": "b05901ea",
   "metadata": {},
   "outputs": [],
   "source": [
    "driver.close()"
   ]
  },
  {
   "cell_type": "markdown",
   "id": "7dc4c56a",
   "metadata": {},
   "source": [
    "# Project : Scrape country details from wikipedia using selenium"
   ]
  },
  {
   "cell_type": "code",
   "execution_count": 89,
   "id": "632a99ba",
   "metadata": {},
   "outputs": [],
   "source": [
    "from selenium import webdriver\n",
    "from selenium.webdriver.common.by import By\n",
    "import time\n",
    "import pandas as pd\n",
    "import re"
   ]
  },
  {
   "cell_type": "code",
   "execution_count": 25,
   "id": "91694d70",
   "metadata": {},
   "outputs": [],
   "source": [
    "driver= webdriver.Chrome()\n"
   ]
  },
  {
   "cell_type": "code",
   "execution_count": 26,
   "id": "095b179d",
   "metadata": {},
   "outputs": [],
   "source": [
    "driver.get(\"https://en.wikipedia.org/wiki/List_of_countries_and_dependencies_and_their_capitals_in_native_languages\")"
   ]
  },
  {
   "cell_type": "code",
   "execution_count": 27,
   "id": "18c8af22",
   "metadata": {},
   "outputs": [
    {
     "data": {
      "text/plain": [
       "'List of countries and dependencies and their capitals in native languages - Wikipedia'"
      ]
     },
     "execution_count": 27,
     "metadata": {},
     "output_type": "execute_result"
    }
   ],
   "source": [
    "driver.title"
   ]
  },
  {
   "cell_type": "code",
   "execution_count": 14,
   "id": "10f914bc",
   "metadata": {},
   "outputs": [],
   "source": [
    "all_tables=driver.find_elements(By.CLASS_NAME,\"wikitable\")"
   ]
  },
  {
   "cell_type": "code",
   "execution_count": 15,
   "id": "30d52fad",
   "metadata": {},
   "outputs": [
    {
     "data": {
      "text/plain": [
       "25"
      ]
     },
     "execution_count": 15,
     "metadata": {},
     "output_type": "execute_result"
    }
   ],
   "source": [
    "len(all_tables)"
   ]
  },
  {
   "cell_type": "code",
   "execution_count": 16,
   "id": "a9db7300",
   "metadata": {},
   "outputs": [],
   "source": [
    "df = pd.DataFrame({}, columns=['Country', 'Capital', 'Language'])"
   ]
  },
  {
   "cell_type": "code",
   "execution_count": 19,
   "id": "8df687f6",
   "metadata": {},
   "outputs": [
    {
     "name": "stdout",
     "output_type": "stream",
     "text": [
      "<bound method WebDriver.maximize_window of <selenium.webdriver.chrome.webdriver.WebDriver (session=\"5bf226b7fa2c260a5165fe87afa2c6ef\")>>\n"
     ]
    }
   ],
   "source": []
  },
  {
   "cell_type": "code",
   "execution_count": 18,
   "id": "7ff6c873",
   "metadata": {},
   "outputs": [],
   "source": [
    "for one_table in all_tables:\n",
    "    all_rows= one_table.find_elements(By.TAG_NAME,'tr')[1:]\n",
    "    for tr in all_rows:\n",
    "        all_tds = tr.find_elements(By.TAG_NAME,'td')\n",
    "\n",
    "        country = all_tds[0].text\n",
    "        capital = all_tds[1].text\n",
    "        language = all_tds[-1].text\n",
    "\n",
    "        ele = {'Country': country, 'Capital' : capital, 'Language' : language}\n",
    "        \n",
    "        #df = df.append(ele, ignore_index=True) # append method is removed from pandas\n",
    "        df = pd.concat([df, pd.DataFrame([ele])], ignore_index=True)"
   ]
  },
  {
   "cell_type": "code",
   "execution_count": null,
   "id": "460d44a5",
   "metadata": {},
   "outputs": [],
   "source": [
    "df"
   ]
  },
  {
   "cell_type": "code",
   "execution_count": null,
   "id": "0a2de81e",
   "metadata": {},
   "outputs": [],
   "source": [
    "import pandas as pd\n",
    "import re"
   ]
  },
  {
   "cell_type": "code",
   "execution_count": null,
   "id": "807a1856",
   "metadata": {},
   "outputs": [],
   "source": [
    "df['Language']=df['Language'].apply(lambda x: x[:-1])"
   ]
  },
  {
   "cell_type": "code",
   "execution_count": null,
   "id": "e1196968",
   "metadata": {},
   "outputs": [],
   "source": [
    "df['Country'] =  df['Country'].apply(lambda x : re.sub('\\[.*\\]', \"\", x.rstrip()))"
   ]
  },
  {
   "cell_type": "code",
   "execution_count": null,
   "id": "0d6aefda",
   "metadata": {},
   "outputs": [],
   "source": [
    "df"
   ]
  },
  {
   "cell_type": "code",
   "execution_count": null,
   "id": "bbe2056f",
   "metadata": {},
   "outputs": [],
   "source": [
    "df.to_csv(\"Country_sel.csv\",index=False)"
   ]
  },
  {
   "cell_type": "code",
   "execution_count": 28,
   "id": "7990f8a0",
   "metadata": {},
   "outputs": [],
   "source": [
    "driver.close()"
   ]
  },
  {
   "cell_type": "markdown",
   "id": "57bdeda9",
   "metadata": {},
   "source": [
    "# End of project"
   ]
  },
  {
   "cell_type": "code",
   "execution_count": null,
   "id": "f5174c5b",
   "metadata": {},
   "outputs": [],
   "source": []
  },
  {
   "cell_type": "code",
   "execution_count": null,
   "id": "e34ba5b4",
   "metadata": {},
   "outputs": [],
   "source": [
    "#INSPECTION OF WEBSITE TO WEBSCRAPE THE DATA OF COLLEGE FROM THE WEBSITE "
   ]
  },
  {
   "cell_type": "code",
   "execution_count": null,
   "id": "8f3ba4a7",
   "metadata": {},
   "outputs": [],
   "source": []
  },
  {
   "cell_type": "code",
   "execution_count": null,
   "id": "289c2dda",
   "metadata": {},
   "outputs": [],
   "source": []
  },
  {
   "cell_type": "code",
   "execution_count": 90,
   "id": "1702f6be",
   "metadata": {},
   "outputs": [],
   "source": [
    "from selenium import webdriver\n",
    "from selenium.webdriver.common.by import By\n",
    "import time\n",
    "import pandas as pd\n",
    "import re"
   ]
  },
  {
   "cell_type": "code",
   "execution_count": null,
   "id": "20cd19e2",
   "metadata": {},
   "outputs": [],
   "source": [
    "driver=webdriver.Chrome()\n",
    "driver.get(\"https://collegedunia.com/engineering-colleges\")"
   ]
  },
  {
   "cell_type": "code",
   "execution_count": 92,
   "id": "6ebba098",
   "metadata": {},
   "outputs": [],
   "source": [
    "college = driver.find_element(By.CSS_SELECTOR,'.jsx-2796823646, .jsx-1933831621')\n",
    "all_colleges=college.find_elements(By.CSS_SELECTOR,'.listing-table')"
   ]
  },
  {
   "cell_type": "code",
   "execution_count": 99,
   "id": "26a209c3",
   "metadata": {},
   "outputs": [],
   "source": [
    "trs=all_colleges[0].find_elements(By.CSS_SELECTOR,'.table-row')"
   ]
  },
  {
   "cell_type": "code",
   "execution_count": 110,
   "id": "a899519f",
   "metadata": {},
   "outputs": [
    {
     "data": {
      "text/plain": [
       "'#3\\nIIT Bombay - Indian Institute of Technology - [IITB], Mumbai\\nMumbai, Maharashtra |AICTE, UGC Approved\\nB.Tech Computer Science Engineering\\nJEE-Advanced 2023 Cutoff : 67\\nApply Now\\nDownload Brochure\\nAdd To Compare\\n₹ 2,29,300\\nBE/B.Tech\\n- 1st Year Fees\\nCompare Fees\\n₹ 21,82,000\\nAverage Package\\n₹ 3,67,00,000\\nHighest Package\\nCompare Placement\\n8.8 / 10\\nBased on 308 User\\nReviews\\nBest in Social Life\\n#2th/35 in India\\n2023\\n+ 10 More'"
      ]
     },
     "execution_count": 110,
     "metadata": {},
     "output_type": "execute_result"
    }
   ],
   "source": [
    "trs[3].text"
   ]
  },
  {
   "cell_type": "code",
   "execution_count": 113,
   "id": "a4156c03",
   "metadata": {},
   "outputs": [],
   "source": [
    "img=trs[2].find_element(By.TAG_NAME,\"img\").get_attribute('data-src')"
   ]
  },
  {
   "cell_type": "code",
   "execution_count": 114,
   "id": "e85e1c5b",
   "metadata": {},
   "outputs": [
    {
     "data": {
      "text/plain": [
       "'https://images.collegedunia.com/public/college_data/images/logos/1705923383ParulUniversity11.png?h=43&w=43&mode=stretch'"
      ]
     },
     "execution_count": 114,
     "metadata": {},
     "output_type": "execute_result"
    }
   ],
   "source": [
    "img"
   ]
  },
  {
   "cell_type": "code",
   "execution_count": 115,
   "id": "81852423",
   "metadata": {},
   "outputs": [
    {
     "data": {
      "text/plain": [
       "'IIT Madras - Indian Institute of Technology - [IITM], Chennai'"
      ]
     },
     "execution_count": 115,
     "metadata": {},
     "output_type": "execute_result"
    }
   ],
   "source": [
    "trs[0].find_element(By.TAG_NAME,\"h3\").text"
   ]
  },
  {
   "cell_type": "code",
   "execution_count": 117,
   "id": "69454ff5",
   "metadata": {},
   "outputs": [
    {
     "data": {
      "text/plain": [
       "'Chennai, Tamil Nadu'"
      ]
     },
     "execution_count": 117,
     "metadata": {},
     "output_type": "execute_result"
    }
   ],
   "source": [
    "trs[0].find_element(By.TAG_NAME,\"span\").text"
   ]
  },
  {
   "cell_type": "code",
   "execution_count": 118,
   "id": "4eb18449",
   "metadata": {},
   "outputs": [
    {
     "data": {
      "text/plain": [
       "'8.5 / 10'"
      ]
     },
     "execution_count": 118,
     "metadata": {},
     "output_type": "execute_result"
    }
   ],
   "source": [
    "trs[0].find_elements(By.TAG_NAME,'td')[-2].find_element(By.TAG_NAME,\"span\").text"
   ]
  },
  {
   "cell_type": "markdown",
   "id": "e0f0d8ba",
   "metadata": {},
   "source": [
    "# Project: Scrape college details from CollegeDunia website using selenium"
   ]
  },
  {
   "cell_type": "code",
   "execution_count": 148,
   "id": "b37a9be2",
   "metadata": {},
   "outputs": [],
   "source": [
    "from selenium import webdriver\n",
    "from selenium.webdriver.common.by import By\n",
    "import requests\n",
    "import time\n",
    "import pandas as pd\n",
    "import re"
   ]
  },
  {
   "cell_type": "code",
   "execution_count": 121,
   "id": "6807f096",
   "metadata": {},
   "outputs": [],
   "source": [
    "driver=webdriver.Chrome()\n"
   ]
  },
  {
   "cell_type": "code",
   "execution_count": 122,
   "id": "832a7039",
   "metadata": {},
   "outputs": [],
   "source": [
    "driver.get(\"https://collegedunia.com/engineering-colleges\")"
   ]
  },
  {
   "cell_type": "code",
   "execution_count": 123,
   "id": "f21b75d0",
   "metadata": {},
   "outputs": [],
   "source": [
    "df=pd.DataFrame({},columns=['Logo','Name', 'Location','Rating'])"
   ]
  },
  {
   "cell_type": "code",
   "execution_count": 124,
   "id": "bb67a956",
   "metadata": {},
   "outputs": [
    {
     "data": {
      "text/html": [
       "<div>\n",
       "<style scoped>\n",
       "    .dataframe tbody tr th:only-of-type {\n",
       "        vertical-align: middle;\n",
       "    }\n",
       "\n",
       "    .dataframe tbody tr th {\n",
       "        vertical-align: top;\n",
       "    }\n",
       "\n",
       "    .dataframe thead th {\n",
       "        text-align: right;\n",
       "    }\n",
       "</style>\n",
       "<table border=\"1\" class=\"dataframe\">\n",
       "  <thead>\n",
       "    <tr style=\"text-align: right;\">\n",
       "      <th></th>\n",
       "      <th>Logo</th>\n",
       "      <th>Name</th>\n",
       "      <th>Location</th>\n",
       "      <th>Rating</th>\n",
       "    </tr>\n",
       "  </thead>\n",
       "  <tbody>\n",
       "  </tbody>\n",
       "</table>\n",
       "</div>"
      ],
      "text/plain": [
       "Empty DataFrame\n",
       "Columns: [Logo, Name, Location, Rating]\n",
       "Index: []"
      ]
     },
     "execution_count": 124,
     "metadata": {},
     "output_type": "execute_result"
    }
   ],
   "source": [
    "df"
   ]
  },
  {
   "cell_type": "markdown",
   "id": "bc513881",
   "metadata": {},
   "source": [
    "<h3>Needs to scroll till bottom</h3>"
   ]
  },
  {
   "cell_type": "code",
   "execution_count": 130,
   "id": "6a57232f",
   "metadata": {},
   "outputs": [],
   "source": [
    "for i in range(20):\n",
    "    # scroll till bottom\n",
    "    driver.execute_script(\"window.scrollTo(0, document.body.scrollHeight);\")\n",
    "\n",
    "    # scroll till bottom - 1000 \n",
    "    driver.execute_script(\"window.scrollTo(0, document.body.scrollHeight-1000);\")\n",
    "    \n",
    "    time.sleep(0.5)"
   ]
  },
  {
   "cell_type": "code",
   "execution_count": 131,
   "id": "75a5fc35",
   "metadata": {},
   "outputs": [],
   "source": [
    "college = driver.find_element(By.CSS_SELECTOR,'.jsx-2796823646, .jsx-1933831621')\n",
    "all_colleges=college.find_elements(By.CSS_SELECTOR,'.listing-table')\n",
    "    "
   ]
  },
  {
   "cell_type": "code",
   "execution_count": 129,
   "id": "23fd6804",
   "metadata": {},
   "outputs": [
    {
     "data": {
      "text/plain": [
       "66"
      ]
     },
     "execution_count": 129,
     "metadata": {},
     "output_type": "execute_result"
    }
   ],
   "source": [
    "len(all_colleges)"
   ]
  },
  {
   "cell_type": "code",
   "execution_count": 132,
   "id": "0ad38f69",
   "metadata": {},
   "outputs": [],
   "source": [
    "\n",
    "for college in all_colleges:\n",
    "    trs=college.find_elements(By.CSS_SELECTOR,'.table-row')\n",
    "    for tr in trs:\n",
    "        Logo=tr.find_element(By.TAG_NAME,\"img\").get_attribute('data-src')\n",
    "        Name=tr.find_element(By.TAG_NAME,\"h3\").text\n",
    "        Location=tr.find_element(By.TAG_NAME,\"span\").text\n",
    "        Rating=tr.find_elements(By.TAG_NAME,'td')[-2].find_element(By.TAG_NAME,\"span\").text\n",
    "    \n",
    "        e={'Logo':Logo,'Name':Name,'Location':Location}\n",
    "        df=pd.concat([df,pd.DataFrame([e])],ignore_index=True)"
   ]
  },
  {
   "cell_type": "code",
   "execution_count": 133,
   "id": "a7f21fb9",
   "metadata": {
    "scrolled": true
   },
   "outputs": [
    {
     "data": {
      "text/html": [
       "<div>\n",
       "<style scoped>\n",
       "    .dataframe tbody tr th:only-of-type {\n",
       "        vertical-align: middle;\n",
       "    }\n",
       "\n",
       "    .dataframe tbody tr th {\n",
       "        vertical-align: top;\n",
       "    }\n",
       "\n",
       "    .dataframe thead th {\n",
       "        text-align: right;\n",
       "    }\n",
       "</style>\n",
       "<table border=\"1\" class=\"dataframe\">\n",
       "  <thead>\n",
       "    <tr style=\"text-align: right;\">\n",
       "      <th></th>\n",
       "      <th>Logo</th>\n",
       "      <th>Name</th>\n",
       "      <th>Location</th>\n",
       "      <th>Rating</th>\n",
       "    </tr>\n",
       "  </thead>\n",
       "  <tbody>\n",
       "    <tr>\n",
       "      <th>0</th>\n",
       "      <td>https://images.collegedunia.com/public/college...</td>\n",
       "      <td>IIT Madras - Indian Institute of Technology - ...</td>\n",
       "      <td>Chennai, Tamil Nadu</td>\n",
       "      <td>NaN</td>\n",
       "    </tr>\n",
       "    <tr>\n",
       "      <th>1</th>\n",
       "      <td>https://images.collegedunia.com/public/college...</td>\n",
       "      <td>IIT Delhi - Indian Institute of Technology [II...</td>\n",
       "      <td>New Delhi, Delhi NCR</td>\n",
       "      <td>NaN</td>\n",
       "    </tr>\n",
       "    <tr>\n",
       "      <th>2</th>\n",
       "      <td>https://images.collegedunia.com/public/college...</td>\n",
       "      <td>Parul University, Vadodara</td>\n",
       "      <td>Featured</td>\n",
       "      <td>NaN</td>\n",
       "    </tr>\n",
       "    <tr>\n",
       "      <th>3</th>\n",
       "      <td>https://images.collegedunia.com/public/college...</td>\n",
       "      <td>IIT Bombay - Indian Institute of Technology - ...</td>\n",
       "      <td>Mumbai, Maharashtra</td>\n",
       "      <td>NaN</td>\n",
       "    </tr>\n",
       "    <tr>\n",
       "      <th>4</th>\n",
       "      <td>https://images.collegedunia.com/public/college...</td>\n",
       "      <td>MIT World Peace University - [MIT-WPU], Pune</td>\n",
       "      <td>Featured</td>\n",
       "      <td>NaN</td>\n",
       "    </tr>\n",
       "    <tr>\n",
       "      <th>...</th>\n",
       "      <td>...</td>\n",
       "      <td>...</td>\n",
       "      <td>...</td>\n",
       "      <td>...</td>\n",
       "    </tr>\n",
       "    <tr>\n",
       "      <th>496</th>\n",
       "      <td>https://images.collegedunia.com/public/college...</td>\n",
       "      <td>Indian Institute of Information Technology - [...</td>\n",
       "      <td>Sonepat, Haryana</td>\n",
       "      <td>NaN</td>\n",
       "    </tr>\n",
       "    <tr>\n",
       "      <th>497</th>\n",
       "      <td>https://images.collegedunia.com/public/college...</td>\n",
       "      <td>Atmiya University, Rajkot</td>\n",
       "      <td>Rajkot, Gujarat</td>\n",
       "      <td>NaN</td>\n",
       "    </tr>\n",
       "    <tr>\n",
       "      <th>498</th>\n",
       "      <td>https://images.collegedunia.com/public/college...</td>\n",
       "      <td>Acropolis Group of Institutions, Indore</td>\n",
       "      <td>Indore, Madhya Pradesh</td>\n",
       "      <td>NaN</td>\n",
       "    </tr>\n",
       "    <tr>\n",
       "      <th>499</th>\n",
       "      <td>https://images.collegedunia.com/public/college...</td>\n",
       "      <td>Pusa Institute of Technology, New Delhi</td>\n",
       "      <td>New Delhi, Delhi NCR</td>\n",
       "      <td>NaN</td>\n",
       "    </tr>\n",
       "    <tr>\n",
       "      <th>500</th>\n",
       "      <td>https://images.collegedunia.com/public/college...</td>\n",
       "      <td>Avantika University, Ujjain</td>\n",
       "      <td>Ujjain, Madhya Pradesh</td>\n",
       "      <td>NaN</td>\n",
       "    </tr>\n",
       "  </tbody>\n",
       "</table>\n",
       "<p>501 rows × 4 columns</p>\n",
       "</div>"
      ],
      "text/plain": [
       "                                                  Logo  \\\n",
       "0    https://images.collegedunia.com/public/college...   \n",
       "1    https://images.collegedunia.com/public/college...   \n",
       "2    https://images.collegedunia.com/public/college...   \n",
       "3    https://images.collegedunia.com/public/college...   \n",
       "4    https://images.collegedunia.com/public/college...   \n",
       "..                                                 ...   \n",
       "496  https://images.collegedunia.com/public/college...   \n",
       "497  https://images.collegedunia.com/public/college...   \n",
       "498  https://images.collegedunia.com/public/college...   \n",
       "499  https://images.collegedunia.com/public/college...   \n",
       "500  https://images.collegedunia.com/public/college...   \n",
       "\n",
       "                                                  Name  \\\n",
       "0    IIT Madras - Indian Institute of Technology - ...   \n",
       "1    IIT Delhi - Indian Institute of Technology [II...   \n",
       "2                           Parul University, Vadodara   \n",
       "3    IIT Bombay - Indian Institute of Technology - ...   \n",
       "4         MIT World Peace University - [MIT-WPU], Pune   \n",
       "..                                                 ...   \n",
       "496  Indian Institute of Information Technology - [...   \n",
       "497                          Atmiya University, Rajkot   \n",
       "498            Acropolis Group of Institutions, Indore   \n",
       "499            Pusa Institute of Technology, New Delhi   \n",
       "500                        Avantika University, Ujjain   \n",
       "\n",
       "                   Location Rating  \n",
       "0       Chennai, Tamil Nadu    NaN  \n",
       "1      New Delhi, Delhi NCR    NaN  \n",
       "2                  Featured    NaN  \n",
       "3       Mumbai, Maharashtra    NaN  \n",
       "4                  Featured    NaN  \n",
       "..                      ...    ...  \n",
       "496        Sonepat, Haryana    NaN  \n",
       "497         Rajkot, Gujarat    NaN  \n",
       "498  Indore, Madhya Pradesh    NaN  \n",
       "499    New Delhi, Delhi NCR    NaN  \n",
       "500  Ujjain, Madhya Pradesh    NaN  \n",
       "\n",
       "[501 rows x 4 columns]"
      ]
     },
     "execution_count": 133,
     "metadata": {},
     "output_type": "execute_result"
    }
   ],
   "source": [
    "df"
   ]
  },
  {
   "cell_type": "code",
   "execution_count": 134,
   "id": "a4abfc9c",
   "metadata": {},
   "outputs": [
    {
     "data": {
      "text/plain": [
       "(501, 4)"
      ]
     },
     "execution_count": 134,
     "metadata": {},
     "output_type": "execute_result"
    }
   ],
   "source": [
    "df.shape"
   ]
  },
  {
   "cell_type": "markdown",
   "id": "c41e8405",
   "metadata": {},
   "source": [
    "<h3>scraping all the images</h3>"
   ]
  },
  {
   "cell_type": "code",
   "execution_count": 136,
   "id": "871363e1",
   "metadata": {},
   "outputs": [],
   "source": [
    "img_urls=df['Logo']"
   ]
  },
  {
   "cell_type": "code",
   "execution_count": 146,
   "id": "0b775b10",
   "metadata": {},
   "outputs": [
    {
     "data": {
      "text/plain": [
       "0      https://images.collegedunia.com/public/college...\n",
       "1      https://images.collegedunia.com/public/college...\n",
       "2      https://images.collegedunia.com/public/college...\n",
       "3      https://images.collegedunia.com/public/college...\n",
       "4      https://images.collegedunia.com/public/college...\n",
       "                             ...                        \n",
       "496    https://images.collegedunia.com/public/college...\n",
       "497    https://images.collegedunia.com/public/college...\n",
       "498    https://images.collegedunia.com/public/college...\n",
       "499    https://images.collegedunia.com/public/college...\n",
       "500    https://images.collegedunia.com/public/college...\n",
       "Name: Logo, Length: 501, dtype: object"
      ]
     },
     "execution_count": 146,
     "metadata": {},
     "output_type": "execute_result"
    }
   ],
   "source": [
    "img_urls.loc[:]"
   ]
  },
  {
   "cell_type": "code",
   "execution_count": 149,
   "id": "7f568e99",
   "metadata": {},
   "outputs": [],
   "source": [
    "for idx,i in enumerate(img_urls.iloc[:],1):\n",
    "    \n",
    "    res = requests.get(i)\n",
    "    img_content = res.content\n",
    "    \n",
    "    with open(f\"Logo\\logo_{idx}.jpg\", 'wb') as f:\n",
    "        f.write(img_content)"
   ]
  },
  {
   "cell_type": "code",
   "execution_count": 135,
   "id": "123d2927",
   "metadata": {},
   "outputs": [],
   "source": [
    "df.to_csv(\"college.csv\",index=False)"
   ]
  },
  {
   "cell_type": "code",
   "execution_count": 30,
   "id": "8b126934",
   "metadata": {},
   "outputs": [],
   "source": [
    "driver.close()"
   ]
  },
  {
   "cell_type": "code",
   "execution_count": null,
   "id": "6036adf0",
   "metadata": {},
   "outputs": [],
   "source": []
  },
  {
   "cell_type": "markdown",
   "id": "8d97d07a",
   "metadata": {},
   "source": [
    "<center> <h1>PROJECT</h1></center>\n",
    "<center> <h1>Wishing Happy Birthday to your Facebook Friends : </h1></center>"
   ]
  },
  {
   "cell_type": "code",
   "execution_count": 84,
   "id": "6a4b2fb7",
   "metadata": {},
   "outputs": [],
   "source": [
    "import getpass\n",
    "from selenium.webdriver.common.keys import Keys"
   ]
  },
  {
   "cell_type": "code",
   "execution_count": null,
   "id": "6b1856b7",
   "metadata": {},
   "outputs": [],
   "source": []
  },
  {
   "cell_type": "code",
   "execution_count": 53,
   "id": "3a319eea",
   "metadata": {},
   "outputs": [],
   "source": [
    "driver= webdriver.Chrome()"
   ]
  },
  {
   "cell_type": "code",
   "execution_count": 54,
   "id": "73173c92",
   "metadata": {},
   "outputs": [],
   "source": [
    "driver.get(\"https://www.facebook.com\")"
   ]
  },
  {
   "cell_type": "code",
   "execution_count": 55,
   "id": "87a9531e",
   "metadata": {},
   "outputs": [],
   "source": [
    "user =driver.find_element(By.ID,\"email\")\n",
    "password = driver.find_element(By.ID,\"pass\")"
   ]
  },
  {
   "cell_type": "code",
   "execution_count": 56,
   "id": "2660d44b",
   "metadata": {},
   "outputs": [
    {
     "name": "stdout",
     "output_type": "stream",
     "text": [
      "Enter the email········\n",
      "Enter the password········\n"
     ]
    }
   ],
   "source": [
    "my_id = getpass.getpass(prompt=\"Enter the email\")\n",
    "my_pass = getpass.getpass(prompt=\"Enter the password\")"
   ]
  },
  {
   "cell_type": "code",
   "execution_count": 57,
   "id": "eb915a39",
   "metadata": {},
   "outputs": [],
   "source": [
    "user.send_keys(my_id)"
   ]
  },
  {
   "cell_type": "code",
   "execution_count": 58,
   "id": "b644aef1",
   "metadata": {},
   "outputs": [],
   "source": [
    "password.send_keys(my_pass)"
   ]
  },
  {
   "cell_type": "code",
   "execution_count": 59,
   "id": "62a6ce21",
   "metadata": {},
   "outputs": [],
   "source": [
    "login = driver.find_element(By.NAME,\"login\")"
   ]
  },
  {
   "cell_type": "code",
   "execution_count": 60,
   "id": "cb76265e",
   "metadata": {},
   "outputs": [],
   "source": [
    "login.click()"
   ]
  },
  {
   "cell_type": "code",
   "execution_count": 66,
   "id": "ddf4a2d2",
   "metadata": {},
   "outputs": [],
   "source": [
    "birthday=driver.find_element(By.XPATH,'//*[@id=\"mount_0_0_ba\"]/div/div[1]/div/div[3]/div/div/div[1]/div[1]/div/div[3]/div/div/div[1]/div/div[1]/div/div[2]/div/a/div[1]/div[2]/div/div/div/div/span')"
   ]
  },
  {
   "cell_type": "code",
   "execution_count": 67,
   "id": "c00fec93",
   "metadata": {},
   "outputs": [],
   "source": [
    "birthday.click()"
   ]
  },
  {
   "cell_type": "code",
   "execution_count": 71,
   "id": "d1fd32f4",
   "metadata": {},
   "outputs": [],
   "source": [
    "friend=driver.find_element(By.XPATH,'//*[@id=\"mount_0_0_ba\"]/div/div[1]/div/div[4]/div/div/div[1]/div/div[2]/div/div/div/div[3]/div/div/div')"
   ]
  },
  {
   "cell_type": "code",
   "execution_count": 78,
   "id": "a759ab78",
   "metadata": {},
   "outputs": [],
   "source": [
    "frnd = friend.find_element(By.TAG_NAME,'form')"
   ]
  },
  {
   "cell_type": "code",
   "execution_count": 82,
   "id": "121534d6",
   "metadata": {},
   "outputs": [
    {
     "name": "stdout",
     "output_type": "stream",
     "text": [
      "Enter the birthday wishesHappy Birthday!!!!\n"
     ]
    }
   ],
   "source": [
    "message= frnd.find_element(By.CSS_SELECTOR,\".xdj266r\")\n",
    "message.send_keys(input(\"Enter the birthday wishes\"))"
   ]
  },
  {
   "cell_type": "code",
   "execution_count": 85,
   "id": "bdee11e8",
   "metadata": {},
   "outputs": [],
   "source": [
    "message.send_keys(Keys.RETURN)"
   ]
  },
  {
   "cell_type": "raw",
   "id": "e29d4676",
   "metadata": {},
   "source": [
    "friends = driver.find_element(By.XPATH,'/html/body/div[1]/div/div[1]/div[1]/div[4]/div/div/div[1]/div/div[2]/div/div/div/div[3]/div/div/div/div')\n",
    "all_friends = friends.find_elements(By.TAG_NAME,'form')\n",
    "for my_f in list(all_friends):\n",
    "    messageBox = my_f.find_element(By.CSS_SELECTOR,'.xdj266r')\n",
    "    messageBox.send_keys(\"Happy Birthday..!!!\")\n",
    "    messageBox.send_keys(Keys.RETURN)\n",
    "    time.sleep(3)"
   ]
  },
  {
   "cell_type": "code",
   "execution_count": 86,
   "id": "ce646f3a",
   "metadata": {},
   "outputs": [],
   "source": [
    "driver.close()"
   ]
  },
  {
   "cell_type": "markdown",
   "id": "a9775484",
   "metadata": {},
   "source": [
    "<center> <h1>PROJECT</h1></center>\n",
    "<center> <h1>SENDING MAIL </h1></center>"
   ]
  },
  {
   "cell_type": "code",
   "execution_count": null,
   "id": "59dae94e",
   "metadata": {},
   "outputs": [],
   "source": [
    "from selenium import webdriver\n",
    "from selenium.webdriver.common.by import By\n",
    "import requests\n",
    "import time\n",
    "import pandas as pd\n",
    "import re\n",
    "import getpass\n",
    "from selenium.webdriver.common.keys import Keys"
   ]
  },
  {
   "cell_type": "code",
   "execution_count": 153,
   "id": "eeb5d541",
   "metadata": {},
   "outputs": [],
   "source": [
    "driver=webdriver.Chrome()"
   ]
  },
  {
   "cell_type": "code",
   "execution_count": 154,
   "id": "e8da9508",
   "metadata": {},
   "outputs": [],
   "source": [
    "driver.get(\"https://mail.google.com\")"
   ]
  },
  {
   "cell_type": "code",
   "execution_count": null,
   "id": "55c5c41d",
   "metadata": {},
   "outputs": [],
   "source": []
  }
 ],
 "metadata": {
  "kernelspec": {
   "display_name": "Python 3 (ipykernel)",
   "language": "python",
   "name": "python3"
  },
  "language_info": {
   "codemirror_mode": {
    "name": "ipython",
    "version": 3
   },
   "file_extension": ".py",
   "mimetype": "text/x-python",
   "name": "python",
   "nbconvert_exporter": "python",
   "pygments_lexer": "ipython3",
   "version": "3.11.5"
  }
 },
 "nbformat": 4,
 "nbformat_minor": 5
}
